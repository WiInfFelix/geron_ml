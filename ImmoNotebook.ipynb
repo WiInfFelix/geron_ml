{
 "cells": [
  {
   "cell_type": "code",
   "execution_count": 1,
   "id": "24c8c6b0",
   "metadata": {},
   "outputs": [],
   "source": [
    "import numpy as np\n",
    "import pandas as pd\n",
    "\n",
    "from sklearn.datasets import fetch_california_housing\n",
    "from sklearn.model_selection import train_test_split\n",
    "from sklearn.preprocessing import StandardScaler, OneHotEncoder, OrdinalEncoder\n",
    "from sklearn.pipeline import Pipeline\n",
    "from sklearn.compose import ColumnTransformer\n",
    "\n",
    "from keras.models import Sequential, load_model\n",
    "from keras import layers\n",
    "from keras import Model\n",
    "from keras.callbacks import ModelCheckpoint, EarlyStopping"
   ]
  },
  {
   "cell_type": "code",
   "execution_count": 2,
   "id": "b5aeabe3",
   "metadata": {},
   "outputs": [
    {
     "name": "stdout",
     "output_type": "stream",
     "text": [
      "[name: \"/device:CPU:0\"\n",
      "device_type: \"CPU\"\n",
      "memory_limit: 268435456\n",
      "locality {\n",
      "}\n",
      "incarnation: 4355666906832260455\n",
      ", name: \"/device:GPU:0\"\n",
      "device_type: \"GPU\"\n",
      "memory_limit: 4143382528\n",
      "locality {\n",
      "  bus_id: 1\n",
      "  links {\n",
      "  }\n",
      "}\n",
      "incarnation: 3651569386379864042\n",
      "physical_device_desc: \"device: 0, name: NVIDIA GeForce RTX 2060, pci bus id: 0000:2d:00.0, compute capability: 7.5\"\n",
      "]\n"
     ]
    }
   ],
   "source": [
    "from tensorflow.python.client import device_lib\n",
    "print(device_lib.list_local_devices())"
   ]
  },
  {
   "cell_type": "code",
   "execution_count": 2,
   "id": "cf09fe0f",
   "metadata": {},
   "outputs": [
    {
     "name": "stdout",
     "output_type": "stream",
     "text": [
      "<class 'pandas.core.frame.DataFrame'>\n",
      "Int64Index: 200361 entries, 0 to 268849\n",
      "Data columns (total 11 columns):\n",
      " #   Column       Non-Null Count   Dtype  \n",
      "---  ------       --------------   -----  \n",
      " 0   noRooms      200361 non-null  float64\n",
      " 1   balcony      200361 non-null  bool   \n",
      " 2   regio1       200361 non-null  object \n",
      " 3   regio2       200361 non-null  object \n",
      " 4   cellar       200361 non-null  bool   \n",
      " 5   condition    200361 non-null  object \n",
      " 6   regio3       200361 non-null  object \n",
      " 7   garden       200361 non-null  bool   \n",
      " 8   livingSpace  200361 non-null  float64\n",
      " 9   lift         200361 non-null  bool   \n",
      " 10  baseRent     200361 non-null  float64\n",
      "dtypes: bool(4), float64(3), object(4)\n",
      "memory usage: 13.0+ MB\n"
     ]
    }
   ],
   "source": [
    "rental_offer = pd.read_csv(\"./immo_data.csv\")\n",
    "rental_offer = rental_offer[[\"noRooms\",\"balcony\", \"regio1\", \"regio2\", \"cellar\", \"condition\", \"regio3\", \"garden\", \"livingSpace\", \"lift\", \"baseRent\"]]\n",
    "rental_offer = rental_offer.dropna()\n",
    "\n",
    "rental_offer.to_csv(\"./immo_features.csv\")\n",
    "\n",
    "rental_offer.info()"
   ]
  },
  {
   "cell_type": "code",
   "execution_count": 4,
   "id": "8464a618",
   "metadata": {},
   "outputs": [
    {
     "name": "stdout",
     "output_type": "stream",
     "text": [
      "<class 'pandas.core.frame.DataFrame'>\n",
      "Int64Index: 200361 entries, 0 to 268849\n",
      "Data columns (total 10 columns):\n",
      " #   Column       Non-Null Count   Dtype  \n",
      "---  ------       --------------   -----  \n",
      " 0   noRooms      200361 non-null  float64\n",
      " 1   balcony      200361 non-null  bool   \n",
      " 2   regio1       200361 non-null  object \n",
      " 3   regio2       200361 non-null  object \n",
      " 4   cellar       200361 non-null  bool   \n",
      " 5   condition    200361 non-null  object \n",
      " 6   regio3       200361 non-null  object \n",
      " 7   garden       200361 non-null  bool   \n",
      " 8   livingSpace  200361 non-null  float64\n",
      " 9   lift         200361 non-null  bool   \n",
      "dtypes: bool(4), float64(2), object(4)\n",
      "memory usage: 11.5+ MB\n"
     ]
    }
   ],
   "source": [
    "learning_frame = rental_offer[[\"noRooms\",\"balcony\", \"regio1\", \"regio2\", \"cellar\", \"condition\", \"regio3\", \"garden\", \"livingSpace\", \"lift\"]]\n",
    "learning_frame.info()"
   ]
  },
  {
   "cell_type": "code",
   "execution_count": 5,
   "id": "7b4077ef",
   "metadata": {},
   "outputs": [
    {
     "name": "stdout",
     "output_type": "stream",
     "text": [
      "<class 'pandas.core.series.Series'>\n",
      "Int64Index: 200361 entries, 0 to 268849\n",
      "Series name: baseRent\n",
      "Non-Null Count   Dtype  \n",
      "--------------   -----  \n",
      "200361 non-null  float64\n",
      "dtypes: float64(1)\n",
      "memory usage: 3.1 MB\n"
     ]
    }
   ],
   "source": [
    "target = rental_offer[\"baseRent\"]\n",
    "target.info()"
   ]
  },
  {
   "cell_type": "code",
   "execution_count": 6,
   "id": "4708e63c",
   "metadata": {},
   "outputs": [
    {
     "data": {
      "text/html": [
       "<div>\n",
       "<style scoped>\n",
       "    .dataframe tbody tr th:only-of-type {\n",
       "        vertical-align: middle;\n",
       "    }\n",
       "\n",
       "    .dataframe tbody tr th {\n",
       "        vertical-align: top;\n",
       "    }\n",
       "\n",
       "    .dataframe thead th {\n",
       "        text-align: right;\n",
       "    }\n",
       "</style>\n",
       "<table border=\"1\" class=\"dataframe\">\n",
       "  <thead>\n",
       "    <tr style=\"text-align: right;\">\n",
       "      <th></th>\n",
       "      <th>noRooms</th>\n",
       "      <th>balcony</th>\n",
       "      <th>cellar</th>\n",
       "      <th>garden</th>\n",
       "      <th>livingSpace</th>\n",
       "      <th>lift</th>\n",
       "    </tr>\n",
       "  </thead>\n",
       "  <tbody>\n",
       "    <tr>\n",
       "      <th>0</th>\n",
       "      <td>4.0</td>\n",
       "      <td>False</td>\n",
       "      <td>True</td>\n",
       "      <td>True</td>\n",
       "      <td>86.00</td>\n",
       "      <td>False</td>\n",
       "    </tr>\n",
       "    <tr>\n",
       "      <th>1</th>\n",
       "      <td>3.0</td>\n",
       "      <td>True</td>\n",
       "      <td>False</td>\n",
       "      <td>False</td>\n",
       "      <td>89.00</td>\n",
       "      <td>False</td>\n",
       "    </tr>\n",
       "    <tr>\n",
       "      <th>2</th>\n",
       "      <td>3.0</td>\n",
       "      <td>True</td>\n",
       "      <td>True</td>\n",
       "      <td>False</td>\n",
       "      <td>83.80</td>\n",
       "      <td>True</td>\n",
       "    </tr>\n",
       "    <tr>\n",
       "      <th>4</th>\n",
       "      <td>3.0</td>\n",
       "      <td>True</td>\n",
       "      <td>False</td>\n",
       "      <td>False</td>\n",
       "      <td>84.97</td>\n",
       "      <td>False</td>\n",
       "    </tr>\n",
       "    <tr>\n",
       "      <th>5</th>\n",
       "      <td>2.0</td>\n",
       "      <td>True</td>\n",
       "      <td>False</td>\n",
       "      <td>False</td>\n",
       "      <td>53.43</td>\n",
       "      <td>False</td>\n",
       "    </tr>\n",
       "  </tbody>\n",
       "</table>\n",
       "</div>"
      ],
      "text/plain": [
       "   noRooms  balcony  cellar  garden  livingSpace   lift\n",
       "0      4.0    False    True    True        86.00  False\n",
       "1      3.0     True   False   False        89.00  False\n",
       "2      3.0     True    True   False        83.80   True\n",
       "4      3.0     True   False   False        84.97  False\n",
       "5      2.0     True   False   False        53.43  False"
      ]
     },
     "execution_count": 6,
     "metadata": {},
     "output_type": "execute_result"
    }
   ],
   "source": [
    "num_attribs = learning_frame.drop([\"regio1\", \"regio2\", \"regio3\", \"condition\"], axis=1)\n",
    "num_attribs.head()"
   ]
  },
  {
   "cell_type": "code",
   "execution_count": 7,
   "id": "6e9c030f",
   "metadata": {},
   "outputs": [],
   "source": [
    "num_attribs = list(num_attribs)\n",
    "cat_attribs = [\"regio1\", \"regio2\", \"regio3\"]\n",
    "ord_attribs = [\"condition\"]\n",
    "\n",
    "num_pipeline = Pipeline([(\"std_scaler\", StandardScaler())])\n",
    "\n",
    "\n",
    "full_pipe = ColumnTransformer([\n",
    "    (\"num\", num_pipeline, num_attribs),\n",
    "    (\"cat\", OneHotEncoder(), cat_attribs),\n",
    "    (\"ord\", OrdinalEncoder(), ord_attribs)\n",
    "])"
   ]
  },
  {
   "cell_type": "code",
   "execution_count": 8,
   "id": "dddc2e9b",
   "metadata": {},
   "outputs": [
    {
     "data": {
      "text/plain": [
       "<200361x8641 sparse matrix of type '<class 'numpy.float32'>'\n",
       "\twith 1981651 stored elements in Compressed Sparse Row format>"
      ]
     },
     "execution_count": 8,
     "metadata": {},
     "output_type": "execute_result"
    }
   ],
   "source": [
    "learning_prepared = full_pipe.fit_transform(learning_frame)\n",
    "learning_prepared = learning_prepared.astype(np.float32)\n",
    "learning_prepared"
   ]
  },
  {
   "cell_type": "code",
   "execution_count": 9,
   "id": "f8d3b08c",
   "metadata": {},
   "outputs": [],
   "source": [
    "learning_prepared = learning_prepared.toarray()"
   ]
  },
  {
   "cell_type": "code",
   "execution_count": 10,
   "id": "2cd6693c",
   "metadata": {},
   "outputs": [],
   "source": [
    "X_train_full, X_test, y_train_full, y_test = train_test_split(learning_prepared, target)"
   ]
  },
  {
   "cell_type": "code",
   "execution_count": 11,
   "id": "fc4caa25",
   "metadata": {},
   "outputs": [],
   "source": [
    "X_train, X_valid, y_train, y_valid = train_test_split(X_train_full, y_train_full)"
   ]
  },
  {
   "cell_type": "code",
   "execution_count": 12,
   "id": "877f17b3",
   "metadata": {},
   "outputs": [],
   "source": [
    "class WideAndDeepModel(Model):\n",
    "    def __init__(self, units=30, activation=\"relu\", **kwargs):\n",
    "        super().__init__(**kwargs)\n",
    "        self.hidden1 = layers.Dense(units, activation=activation)\n",
    "        self.hidden2 = layers.Dense(units, activation=activation)\n",
    "        self.conc = layers.Concatenate()\n",
    "        self.output = layers.Dense(1)\n",
    "        \n",
    "        \n",
    "    def call(self, inputs):\n",
    "        input_ = inputs\n",
    "        hidden"
   ]
  },
  {
   "cell_type": "code",
   "execution_count": 16,
   "id": "b4e8b10d",
   "metadata": {},
   "outputs": [],
   "source": [
    "input_ = layers.Input(shape=X_train.shape[1:])\n",
    "hidden1 = layers.Dense(8641, activation=\"relu\")(input_)\n",
    "hidden2 = layers.Dense(8641, activation=\"relu\")(hidden1)\n",
    "conc = layers.Concatenate()([input_, hidden2])\n",
    "output = layers.Dense(1)(conc)\n",
    "\n",
    "model = Model(inputs=[input_], outputs=[output])"
   ]
  },
  {
   "cell_type": "code",
   "execution_count": 17,
   "id": "f812c5b8",
   "metadata": {},
   "outputs": [],
   "source": [
    "model.compile(loss=\"mean_squared_error\", optimizer=\"adam\")"
   ]
  },
  {
   "cell_type": "code",
   "execution_count": 18,
   "id": "4af7be04",
   "metadata": {
    "tags": []
   },
   "outputs": [
    {
     "name": "stdout",
     "output_type": "stream",
     "text": [
      "Epoch 1/2000\n",
      "3522/3522 [==============================] - 122s 35ms/step - loss: 1189158.5000 - val_loss: 154915.7031\n",
      "Epoch 2/2000\n",
      "3522/3522 [==============================] - 121s 34ms/step - loss: 829627.6875 - val_loss: 84616.5781\n",
      "Epoch 3/2000\n",
      "3522/3522 [==============================] - 121s 34ms/step - loss: 515588.4688 - val_loss: 128318.1719\n",
      "Epoch 4/2000\n",
      "3522/3522 [==============================] - 122s 35ms/step - loss: 228914.0469 - val_loss: 348092.5000\n",
      "Epoch 5/2000\n",
      "3522/3522 [==============================] - 121s 34ms/step - loss: 227821.3906 - val_loss: 192559.7188\n",
      "Epoch 6/2000\n",
      "3522/3522 [==============================] - 121s 34ms/step - loss: 1066526.2500 - val_loss: 153872.9844\n",
      "Epoch 7/2000\n",
      "3522/3522 [==============================] - 121s 34ms/step - loss: 233336.5312 - val_loss: 158506.2969\n",
      "Epoch 8/2000\n",
      "3522/3522 [==============================] - 121s 34ms/step - loss: 214371.4062 - val_loss: 144505.4688\n",
      "Epoch 9/2000\n",
      "3522/3522 [==============================] - 121s 34ms/step - loss: 558210.9375 - val_loss: 74700.9531\n",
      "Epoch 10/2000\n",
      "3522/3522 [==============================] - 121s 34ms/step - loss: 231387.2031 - val_loss: 166945.2656\n",
      "Epoch 11/2000\n",
      "3522/3522 [==============================] - 121s 34ms/step - loss: 180124.2031 - val_loss: 35563.4844\n",
      "Epoch 12/2000\n",
      "3522/3522 [==============================] - 121s 34ms/step - loss: 183124.5625 - val_loss: 35875.4492\n",
      "Epoch 13/2000\n",
      "3522/3522 [==============================] - 121s 34ms/step - loss: 185641.1250 - val_loss: 55949.3359\n",
      "Epoch 14/2000\n",
      "3522/3522 [==============================] - 121s 34ms/step - loss: 221086.6406 - val_loss: 41153.1680\n",
      "Epoch 15/2000\n",
      "3522/3522 [==============================] - 121s 34ms/step - loss: 164929.0312 - val_loss: 56358.0859\n",
      "Epoch 16/2000\n",
      "3522/3522 [==============================] - 121s 34ms/step - loss: 255763.4375 - val_loss: 35159.3633\n",
      "Epoch 17/2000\n",
      "3522/3522 [==============================] - 121s 34ms/step - loss: 172846.9375 - val_loss: 50796.9141\n",
      "Epoch 18/2000\n",
      "3522/3522 [==============================] - 121s 34ms/step - loss: 172155.2656 - val_loss: 61565.3633\n",
      "Epoch 19/2000\n",
      "3522/3522 [==============================] - 121s 34ms/step - loss: 305035.0938 - val_loss: 31642.5957\n",
      "Epoch 20/2000\n",
      "3522/3522 [==============================] - 121s 34ms/step - loss: 158117.3750 - val_loss: 37868.4961\n",
      "Epoch 21/2000\n",
      "3522/3522 [==============================] - 121s 34ms/step - loss: 185149.5781 - val_loss: 37017.5977\n",
      "Epoch 22/2000\n",
      "3522/3522 [==============================] - 121s 34ms/step - loss: 163842.1562 - val_loss: 38901.6836\n",
      "Epoch 23/2000\n",
      "3522/3522 [==============================] - 121s 34ms/step - loss: 183798.4219 - val_loss: 51541.9531\n",
      "Epoch 24/2000\n",
      "3522/3522 [==============================] - 121s 34ms/step - loss: 184824.6875 - val_loss: 33655.5781\n",
      "Epoch 25/2000\n",
      "3522/3522 [==============================] - 121s 34ms/step - loss: 183642.8281 - val_loss: 101771.7656\n",
      "Epoch 26/2000\n",
      "3522/3522 [==============================] - 121s 34ms/step - loss: 167472.3750 - val_loss: 52739.5078\n",
      "Epoch 27/2000\n",
      "3522/3522 [==============================] - 121s 34ms/step - loss: 193277.7031 - val_loss: 33971.2188\n",
      "Epoch 28/2000\n",
      "3522/3522 [==============================] - 121s 34ms/step - loss: 153077.2812 - val_loss: 43350.3945\n",
      "Epoch 29/2000\n",
      "3522/3522 [==============================] - 121s 34ms/step - loss: 176441.5156 - val_loss: 39659.0781\n",
      "Epoch 30/2000\n",
      "3522/3522 [==============================] - 121s 34ms/step - loss: 158190.1094 - val_loss: 34203.1758\n",
      "Epoch 31/2000\n",
      "3522/3522 [==============================] - 121s 34ms/step - loss: 170020.6875 - val_loss: 70353.2344\n",
      "Epoch 32/2000\n",
      "3522/3522 [==============================] - 121s 34ms/step - loss: 159524.0312 - val_loss: 34532.6016\n",
      "Epoch 33/2000\n",
      "3522/3522 [==============================] - 121s 34ms/step - loss: 175744.1719 - val_loss: 35277.2344\n",
      "Epoch 34/2000\n",
      "3522/3522 [==============================] - 121s 34ms/step - loss: 158673.9531 - val_loss: 35064.6602\n",
      "Epoch 35/2000\n",
      "3522/3522 [==============================] - 121s 34ms/step - loss: 176524.7344 - val_loss: 43424.5508\n",
      "Epoch 36/2000\n",
      "3522/3522 [==============================] - 121s 34ms/step - loss: 149654.2812 - val_loss: 34589.6914\n",
      "Epoch 37/2000\n",
      "3522/3522 [==============================] - 118s 33ms/step - loss: 172438.8281 - val_loss: 34004.3086\n",
      "Epoch 38/2000\n",
      "3522/3522 [==============================] - 118s 33ms/step - loss: 151563.0156 - val_loss: 34010.5742\n",
      "Epoch 39/2000\n",
      "3522/3522 [==============================] - 118s 33ms/step - loss: 161231.0156 - val_loss: 38896.1992\n",
      "Epoch 40/2000\n",
      "3522/3522 [==============================] - 118s 33ms/step - loss: 151198.7656 - val_loss: 34500.8789\n",
      "Epoch 41/2000\n",
      "3522/3522 [==============================] - 118s 33ms/step - loss: 158097.5625 - val_loss: 47066.5742\n",
      "Epoch 42/2000\n",
      "3522/3522 [==============================] - 118s 34ms/step - loss: 152633.5938 - val_loss: 41370.3086\n",
      "Epoch 43/2000\n",
      "3522/3522 [==============================] - 118s 34ms/step - loss: 166306.5938 - val_loss: 46814.4922\n",
      "Epoch 44/2000\n",
      "3522/3522 [==============================] - 118s 34ms/step - loss: 149121.8750 - val_loss: 46144.5742\n",
      "Epoch 45/2000\n",
      "3522/3522 [==============================] - 119s 34ms/step - loss: 149398.6094 - val_loss: 34089.7812\n",
      "Epoch 46/2000\n",
      "3522/3522 [==============================] - 118s 34ms/step - loss: 162408.7656 - val_loss: 34764.3867\n",
      "Epoch 47/2000\n",
      "3522/3522 [==============================] - 118s 33ms/step - loss: 147796.7031 - val_loss: 39764.7500\n",
      "Epoch 48/2000\n",
      "3522/3522 [==============================] - 118s 33ms/step - loss: 151641.9062 - val_loss: 36203.3008\n",
      "Epoch 49/2000\n",
      "3522/3522 [==============================] - 118s 33ms/step - loss: 149724.6250 - val_loss: 41709.8438\n",
      "Epoch 50/2000\n",
      "3522/3522 [==============================] - 118s 33ms/step - loss: 162680.9062 - val_loss: 40749.4570\n",
      "Epoch 51/2000\n",
      "3522/3522 [==============================] - 118s 34ms/step - loss: 147917.3438 - val_loss: 35523.6758\n",
      "Epoch 52/2000\n",
      "3522/3522 [==============================] - 118s 34ms/step - loss: 153675.8281 - val_loss: 34921.7109\n",
      "Epoch 53/2000\n",
      "3522/3522 [==============================] - 118s 33ms/step - loss: 148704.8281 - val_loss: 45900.1133\n",
      "Epoch 54/2000\n",
      "3522/3522 [==============================] - 117s 33ms/step - loss: 145645.0156 - val_loss: 34485.6445\n",
      "Epoch 55/2000\n",
      "3522/3522 [==============================] - 118s 34ms/step - loss: 151422.8750 - val_loss: 39910.0117\n",
      "Epoch 56/2000\n",
      "3522/3522 [==============================] - 118s 34ms/step - loss: 145885.7031 - val_loss: 44319.1719\n",
      "Epoch 57/2000\n",
      "3522/3522 [==============================] - 118s 34ms/step - loss: 150187.3281 - val_loss: 35659.5898\n",
      "Epoch 58/2000\n",
      "3522/3522 [==============================] - 118s 33ms/step - loss: 149934.8125 - val_loss: 39725.9883\n",
      "Epoch 59/2000\n",
      "3522/3522 [==============================] - 118s 33ms/step - loss: 155553.2031 - val_loss: 45829.1016\n",
      "Epoch 60/2000\n",
      "3522/3522 [==============================] - 118s 34ms/step - loss: 146898.3125 - val_loss: 35652.1484\n",
      "Epoch 61/2000\n",
      "3522/3522 [==============================] - 118s 34ms/step - loss: 148503.2031 - val_loss: 35720.5156\n",
      "Epoch 62/2000\n",
      "3522/3522 [==============================] - 118s 34ms/step - loss: 144416.1875 - val_loss: 51031.9258\n",
      "Epoch 63/2000\n",
      "1347/3522 [==========>...................] - ETA: 1:13 - loss: 330641.8438"
     ]
    },
    {
     "ename": "KeyboardInterrupt",
     "evalue": "",
     "output_type": "error",
     "traceback": [
      "\u001b[1;31m---------------------------------------------------------------------------\u001b[0m",
      "\u001b[1;31mKeyboardInterrupt\u001b[0m                         Traceback (most recent call last)",
      "Input \u001b[1;32mIn [18]\u001b[0m, in \u001b[0;36m<cell line: 4>\u001b[1;34m()\u001b[0m\n\u001b[0;32m      1\u001b[0m checkp \u001b[38;5;241m=\u001b[39m ModelCheckpoint(\u001b[38;5;124m\"\u001b[39m\u001b[38;5;124mmodel.h5\u001b[39m\u001b[38;5;124m\"\u001b[39m, save_best_only\u001b[38;5;241m=\u001b[39m\u001b[38;5;28;01mTrue\u001b[39;00m)\n\u001b[0;32m      2\u001b[0m early_stop_cb \u001b[38;5;241m=\u001b[39m EarlyStopping(patience\u001b[38;5;241m=\u001b[39m\u001b[38;5;241m10\u001b[39m, restore_best_weights\u001b[38;5;241m=\u001b[39m\u001b[38;5;28;01mTrue\u001b[39;00m)\n\u001b[1;32m----> 4\u001b[0m hist \u001b[38;5;241m=\u001b[39m \u001b[43mmodel\u001b[49m\u001b[38;5;241;43m.\u001b[39;49m\u001b[43mfit\u001b[49m\u001b[43m(\u001b[49m\u001b[43mX_train\u001b[49m\u001b[43m,\u001b[49m\u001b[43m \u001b[49m\u001b[43my_train\u001b[49m\u001b[43m,\u001b[49m\u001b[43m \u001b[49m\u001b[43mepochs\u001b[49m\u001b[38;5;241;43m=\u001b[39;49m\u001b[38;5;241;43m2000\u001b[39;49m\u001b[43m,\u001b[49m\u001b[43m \u001b[49m\u001b[43mvalidation_data\u001b[49m\u001b[38;5;241;43m=\u001b[39;49m\u001b[43m(\u001b[49m\u001b[43mX_valid\u001b[49m\u001b[43m,\u001b[49m\u001b[43m \u001b[49m\u001b[43my_valid\u001b[49m\u001b[43m)\u001b[49m\u001b[43m,\u001b[49m\u001b[43m \u001b[49m\u001b[43mcallbacks\u001b[49m\u001b[38;5;241;43m=\u001b[39;49m\u001b[43m[\u001b[49m\u001b[43mcheckp\u001b[49m\u001b[43m]\u001b[49m\u001b[43m)\u001b[49m\n\u001b[0;32m      5\u001b[0m model \u001b[38;5;241m=\u001b[39m load_model(\u001b[38;5;124m\"\u001b[39m\u001b[38;5;124mmodel.h5\u001b[39m\u001b[38;5;124m\"\u001b[39m)\n",
      "File \u001b[1;32m~\\anaconda3\\envs\\geron_ml\\lib\\site-packages\\tensorflow\\python\\keras\\engine\\training.py:1188\u001b[0m, in \u001b[0;36mModel.fit\u001b[1;34m(self, x, y, batch_size, epochs, verbose, callbacks, validation_split, validation_data, shuffle, class_weight, sample_weight, initial_epoch, steps_per_epoch, validation_steps, validation_batch_size, validation_freq, max_queue_size, workers, use_multiprocessing)\u001b[0m\n\u001b[0;32m   1186\u001b[0m logs \u001b[38;5;241m=\u001b[39m tmp_logs  \u001b[38;5;66;03m# No error, now safe to assign to logs.\u001b[39;00m\n\u001b[0;32m   1187\u001b[0m end_step \u001b[38;5;241m=\u001b[39m step \u001b[38;5;241m+\u001b[39m data_handler\u001b[38;5;241m.\u001b[39mstep_increment\n\u001b[1;32m-> 1188\u001b[0m \u001b[43mcallbacks\u001b[49m\u001b[38;5;241;43m.\u001b[39;49m\u001b[43mon_train_batch_end\u001b[49m\u001b[43m(\u001b[49m\u001b[43mend_step\u001b[49m\u001b[43m,\u001b[49m\u001b[43m \u001b[49m\u001b[43mlogs\u001b[49m\u001b[43m)\u001b[49m\n\u001b[0;32m   1189\u001b[0m \u001b[38;5;28;01mif\u001b[39;00m \u001b[38;5;28mself\u001b[39m\u001b[38;5;241m.\u001b[39mstop_training:\n\u001b[0;32m   1190\u001b[0m   \u001b[38;5;28;01mbreak\u001b[39;00m\n",
      "File \u001b[1;32m~\\anaconda3\\envs\\geron_ml\\lib\\site-packages\\tensorflow\\python\\keras\\callbacks.py:457\u001b[0m, in \u001b[0;36mCallbackList.on_train_batch_end\u001b[1;34m(self, batch, logs)\u001b[0m\n\u001b[0;32m    450\u001b[0m \u001b[38;5;124;03m\"\"\"Calls the `on_train_batch_end` methods of its callbacks.\u001b[39;00m\n\u001b[0;32m    451\u001b[0m \n\u001b[0;32m    452\u001b[0m \u001b[38;5;124;03mArgs:\u001b[39;00m\n\u001b[0;32m    453\u001b[0m \u001b[38;5;124;03m    batch: Integer, index of batch within the current epoch.\u001b[39;00m\n\u001b[0;32m    454\u001b[0m \u001b[38;5;124;03m    logs: Dict. Aggregated metric results up until this batch.\u001b[39;00m\n\u001b[0;32m    455\u001b[0m \u001b[38;5;124;03m\"\"\"\u001b[39;00m\n\u001b[0;32m    456\u001b[0m \u001b[38;5;28;01mif\u001b[39;00m \u001b[38;5;28mself\u001b[39m\u001b[38;5;241m.\u001b[39m_should_call_train_batch_hooks:\n\u001b[1;32m--> 457\u001b[0m   \u001b[38;5;28;43mself\u001b[39;49m\u001b[38;5;241;43m.\u001b[39;49m\u001b[43m_call_batch_hook\u001b[49m\u001b[43m(\u001b[49m\u001b[43mModeKeys\u001b[49m\u001b[38;5;241;43m.\u001b[39;49m\u001b[43mTRAIN\u001b[49m\u001b[43m,\u001b[49m\u001b[43m \u001b[49m\u001b[38;5;124;43m'\u001b[39;49m\u001b[38;5;124;43mend\u001b[39;49m\u001b[38;5;124;43m'\u001b[39;49m\u001b[43m,\u001b[49m\u001b[43m \u001b[49m\u001b[43mbatch\u001b[49m\u001b[43m,\u001b[49m\u001b[43m \u001b[49m\u001b[43mlogs\u001b[49m\u001b[38;5;241;43m=\u001b[39;49m\u001b[43mlogs\u001b[49m\u001b[43m)\u001b[49m\n",
      "File \u001b[1;32m~\\anaconda3\\envs\\geron_ml\\lib\\site-packages\\tensorflow\\python\\keras\\callbacks.py:317\u001b[0m, in \u001b[0;36mCallbackList._call_batch_hook\u001b[1;34m(self, mode, hook, batch, logs)\u001b[0m\n\u001b[0;32m    315\u001b[0m   \u001b[38;5;28mself\u001b[39m\u001b[38;5;241m.\u001b[39m_call_batch_begin_hook(mode, batch, logs)\n\u001b[0;32m    316\u001b[0m \u001b[38;5;28;01melif\u001b[39;00m hook \u001b[38;5;241m==\u001b[39m \u001b[38;5;124m'\u001b[39m\u001b[38;5;124mend\u001b[39m\u001b[38;5;124m'\u001b[39m:\n\u001b[1;32m--> 317\u001b[0m   \u001b[38;5;28;43mself\u001b[39;49m\u001b[38;5;241;43m.\u001b[39;49m\u001b[43m_call_batch_end_hook\u001b[49m\u001b[43m(\u001b[49m\u001b[43mmode\u001b[49m\u001b[43m,\u001b[49m\u001b[43m \u001b[49m\u001b[43mbatch\u001b[49m\u001b[43m,\u001b[49m\u001b[43m \u001b[49m\u001b[43mlogs\u001b[49m\u001b[43m)\u001b[49m\n\u001b[0;32m    318\u001b[0m \u001b[38;5;28;01melse\u001b[39;00m:\n\u001b[0;32m    319\u001b[0m   \u001b[38;5;28;01mraise\u001b[39;00m \u001b[38;5;167;01mValueError\u001b[39;00m(\u001b[38;5;124m'\u001b[39m\u001b[38;5;124mUnrecognized hook: \u001b[39m\u001b[38;5;132;01m{}\u001b[39;00m\u001b[38;5;124m'\u001b[39m\u001b[38;5;241m.\u001b[39mformat(hook))\n",
      "File \u001b[1;32m~\\anaconda3\\envs\\geron_ml\\lib\\site-packages\\tensorflow\\python\\keras\\callbacks.py:337\u001b[0m, in \u001b[0;36mCallbackList._call_batch_end_hook\u001b[1;34m(self, mode, batch, logs)\u001b[0m\n\u001b[0;32m    334\u001b[0m   batch_time \u001b[38;5;241m=\u001b[39m time\u001b[38;5;241m.\u001b[39mtime() \u001b[38;5;241m-\u001b[39m \u001b[38;5;28mself\u001b[39m\u001b[38;5;241m.\u001b[39m_batch_start_time\n\u001b[0;32m    335\u001b[0m   \u001b[38;5;28mself\u001b[39m\u001b[38;5;241m.\u001b[39m_batch_times\u001b[38;5;241m.\u001b[39mappend(batch_time)\n\u001b[1;32m--> 337\u001b[0m \u001b[38;5;28;43mself\u001b[39;49m\u001b[38;5;241;43m.\u001b[39;49m\u001b[43m_call_batch_hook_helper\u001b[49m\u001b[43m(\u001b[49m\u001b[43mhook_name\u001b[49m\u001b[43m,\u001b[49m\u001b[43m \u001b[49m\u001b[43mbatch\u001b[49m\u001b[43m,\u001b[49m\u001b[43m \u001b[49m\u001b[43mlogs\u001b[49m\u001b[43m)\u001b[49m\n\u001b[0;32m    339\u001b[0m \u001b[38;5;28;01mif\u001b[39;00m \u001b[38;5;28mlen\u001b[39m(\u001b[38;5;28mself\u001b[39m\u001b[38;5;241m.\u001b[39m_batch_times) \u001b[38;5;241m>\u001b[39m\u001b[38;5;241m=\u001b[39m \u001b[38;5;28mself\u001b[39m\u001b[38;5;241m.\u001b[39m_num_batches_for_timing_check:\n\u001b[0;32m    340\u001b[0m   end_hook_name \u001b[38;5;241m=\u001b[39m hook_name\n",
      "File \u001b[1;32m~\\anaconda3\\envs\\geron_ml\\lib\\site-packages\\tensorflow\\python\\keras\\callbacks.py:375\u001b[0m, in \u001b[0;36mCallbackList._call_batch_hook_helper\u001b[1;34m(self, hook_name, batch, logs)\u001b[0m\n\u001b[0;32m    373\u001b[0m \u001b[38;5;28;01mfor\u001b[39;00m callback \u001b[38;5;129;01min\u001b[39;00m \u001b[38;5;28mself\u001b[39m\u001b[38;5;241m.\u001b[39mcallbacks:\n\u001b[0;32m    374\u001b[0m   hook \u001b[38;5;241m=\u001b[39m \u001b[38;5;28mgetattr\u001b[39m(callback, hook_name)\n\u001b[1;32m--> 375\u001b[0m   \u001b[43mhook\u001b[49m\u001b[43m(\u001b[49m\u001b[43mbatch\u001b[49m\u001b[43m,\u001b[49m\u001b[43m \u001b[49m\u001b[43mlogs\u001b[49m\u001b[43m)\u001b[49m\n\u001b[0;32m    377\u001b[0m \u001b[38;5;28;01mif\u001b[39;00m \u001b[38;5;28mself\u001b[39m\u001b[38;5;241m.\u001b[39m_check_timing:\n\u001b[0;32m    378\u001b[0m   \u001b[38;5;28;01mif\u001b[39;00m hook_name \u001b[38;5;129;01mnot\u001b[39;00m \u001b[38;5;129;01min\u001b[39;00m \u001b[38;5;28mself\u001b[39m\u001b[38;5;241m.\u001b[39m_hook_times:\n",
      "File \u001b[1;32m~\\anaconda3\\envs\\geron_ml\\lib\\site-packages\\tensorflow\\python\\keras\\callbacks.py:1029\u001b[0m, in \u001b[0;36mProgbarLogger.on_train_batch_end\u001b[1;34m(self, batch, logs)\u001b[0m\n\u001b[0;32m   1028\u001b[0m \u001b[38;5;28;01mdef\u001b[39;00m \u001b[38;5;21mon_train_batch_end\u001b[39m(\u001b[38;5;28mself\u001b[39m, batch, logs\u001b[38;5;241m=\u001b[39m\u001b[38;5;28;01mNone\u001b[39;00m):\n\u001b[1;32m-> 1029\u001b[0m   \u001b[38;5;28;43mself\u001b[39;49m\u001b[38;5;241;43m.\u001b[39;49m\u001b[43m_batch_update_progbar\u001b[49m\u001b[43m(\u001b[49m\u001b[43mbatch\u001b[49m\u001b[43m,\u001b[49m\u001b[43m \u001b[49m\u001b[43mlogs\u001b[49m\u001b[43m)\u001b[49m\n",
      "File \u001b[1;32m~\\anaconda3\\envs\\geron_ml\\lib\\site-packages\\tensorflow\\python\\keras\\callbacks.py:1101\u001b[0m, in \u001b[0;36mProgbarLogger._batch_update_progbar\u001b[1;34m(self, batch, logs)\u001b[0m\n\u001b[0;32m   1097\u001b[0m   \u001b[38;5;28mself\u001b[39m\u001b[38;5;241m.\u001b[39mseen \u001b[38;5;241m+\u001b[39m\u001b[38;5;241m=\u001b[39m add_seen\n\u001b[0;32m   1099\u001b[0m \u001b[38;5;28;01mif\u001b[39;00m \u001b[38;5;28mself\u001b[39m\u001b[38;5;241m.\u001b[39mverbose \u001b[38;5;241m==\u001b[39m \u001b[38;5;241m1\u001b[39m:\n\u001b[0;32m   1100\u001b[0m   \u001b[38;5;66;03m# Only block async when verbose = 1.\u001b[39;00m\n\u001b[1;32m-> 1101\u001b[0m   logs \u001b[38;5;241m=\u001b[39m \u001b[43mtf_utils\u001b[49m\u001b[38;5;241;43m.\u001b[39;49m\u001b[43msync_to_numpy_or_python_type\u001b[49m\u001b[43m(\u001b[49m\u001b[43mlogs\u001b[49m\u001b[43m)\u001b[49m\n\u001b[0;32m   1102\u001b[0m   \u001b[38;5;28mself\u001b[39m\u001b[38;5;241m.\u001b[39mprogbar\u001b[38;5;241m.\u001b[39mupdate(\u001b[38;5;28mself\u001b[39m\u001b[38;5;241m.\u001b[39mseen, \u001b[38;5;28mlist\u001b[39m(logs\u001b[38;5;241m.\u001b[39mitems()), finalize\u001b[38;5;241m=\u001b[39m\u001b[38;5;28;01mFalse\u001b[39;00m)\n",
      "File \u001b[1;32m~\\anaconda3\\envs\\geron_ml\\lib\\site-packages\\tensorflow\\python\\keras\\utils\\tf_utils.py:519\u001b[0m, in \u001b[0;36msync_to_numpy_or_python_type\u001b[1;34m(tensors)\u001b[0m\n\u001b[0;32m    516\u001b[0m     \u001b[38;5;28;01mreturn\u001b[39;00m x\u001b[38;5;241m.\u001b[39mitem() \u001b[38;5;28;01mif\u001b[39;00m np\u001b[38;5;241m.\u001b[39mndim(x) \u001b[38;5;241m==\u001b[39m \u001b[38;5;241m0\u001b[39m \u001b[38;5;28;01melse\u001b[39;00m x\n\u001b[0;32m    517\u001b[0m   \u001b[38;5;28;01mreturn\u001b[39;00m t  \u001b[38;5;66;03m# Don't turn ragged or sparse tensors to NumPy.\u001b[39;00m\n\u001b[1;32m--> 519\u001b[0m \u001b[38;5;28;01mreturn\u001b[39;00m \u001b[43mnest\u001b[49m\u001b[38;5;241;43m.\u001b[39;49m\u001b[43mmap_structure\u001b[49m\u001b[43m(\u001b[49m\u001b[43m_to_single_numpy_or_python_type\u001b[49m\u001b[43m,\u001b[49m\u001b[43m \u001b[49m\u001b[43mtensors\u001b[49m\u001b[43m)\u001b[49m\n",
      "File \u001b[1;32m~\\anaconda3\\envs\\geron_ml\\lib\\site-packages\\tensorflow\\python\\util\\nest.py:867\u001b[0m, in \u001b[0;36mmap_structure\u001b[1;34m(func, *structure, **kwargs)\u001b[0m\n\u001b[0;32m    863\u001b[0m flat_structure \u001b[38;5;241m=\u001b[39m (flatten(s, expand_composites) \u001b[38;5;28;01mfor\u001b[39;00m s \u001b[38;5;129;01min\u001b[39;00m structure)\n\u001b[0;32m    864\u001b[0m entries \u001b[38;5;241m=\u001b[39m \u001b[38;5;28mzip\u001b[39m(\u001b[38;5;241m*\u001b[39mflat_structure)\n\u001b[0;32m    866\u001b[0m \u001b[38;5;28;01mreturn\u001b[39;00m pack_sequence_as(\n\u001b[1;32m--> 867\u001b[0m     structure[\u001b[38;5;241m0\u001b[39m], [func(\u001b[38;5;241m*\u001b[39mx) \u001b[38;5;28;01mfor\u001b[39;00m x \u001b[38;5;129;01min\u001b[39;00m entries],\n\u001b[0;32m    868\u001b[0m     expand_composites\u001b[38;5;241m=\u001b[39mexpand_composites)\n",
      "File \u001b[1;32m~\\anaconda3\\envs\\geron_ml\\lib\\site-packages\\tensorflow\\python\\util\\nest.py:867\u001b[0m, in \u001b[0;36m<listcomp>\u001b[1;34m(.0)\u001b[0m\n\u001b[0;32m    863\u001b[0m flat_structure \u001b[38;5;241m=\u001b[39m (flatten(s, expand_composites) \u001b[38;5;28;01mfor\u001b[39;00m s \u001b[38;5;129;01min\u001b[39;00m structure)\n\u001b[0;32m    864\u001b[0m entries \u001b[38;5;241m=\u001b[39m \u001b[38;5;28mzip\u001b[39m(\u001b[38;5;241m*\u001b[39mflat_structure)\n\u001b[0;32m    866\u001b[0m \u001b[38;5;28;01mreturn\u001b[39;00m pack_sequence_as(\n\u001b[1;32m--> 867\u001b[0m     structure[\u001b[38;5;241m0\u001b[39m], [\u001b[43mfunc\u001b[49m\u001b[43m(\u001b[49m\u001b[38;5;241;43m*\u001b[39;49m\u001b[43mx\u001b[49m\u001b[43m)\u001b[49m \u001b[38;5;28;01mfor\u001b[39;00m x \u001b[38;5;129;01min\u001b[39;00m entries],\n\u001b[0;32m    868\u001b[0m     expand_composites\u001b[38;5;241m=\u001b[39mexpand_composites)\n",
      "File \u001b[1;32m~\\anaconda3\\envs\\geron_ml\\lib\\site-packages\\tensorflow\\python\\keras\\utils\\tf_utils.py:515\u001b[0m, in \u001b[0;36msync_to_numpy_or_python_type.<locals>._to_single_numpy_or_python_type\u001b[1;34m(t)\u001b[0m\n\u001b[0;32m    513\u001b[0m \u001b[38;5;28;01mdef\u001b[39;00m \u001b[38;5;21m_to_single_numpy_or_python_type\u001b[39m(t):\n\u001b[0;32m    514\u001b[0m   \u001b[38;5;28;01mif\u001b[39;00m \u001b[38;5;28misinstance\u001b[39m(t, ops\u001b[38;5;241m.\u001b[39mTensor):\n\u001b[1;32m--> 515\u001b[0m     x \u001b[38;5;241m=\u001b[39m \u001b[43mt\u001b[49m\u001b[38;5;241;43m.\u001b[39;49m\u001b[43mnumpy\u001b[49m\u001b[43m(\u001b[49m\u001b[43m)\u001b[49m\n\u001b[0;32m    516\u001b[0m     \u001b[38;5;28;01mreturn\u001b[39;00m x\u001b[38;5;241m.\u001b[39mitem() \u001b[38;5;28;01mif\u001b[39;00m np\u001b[38;5;241m.\u001b[39mndim(x) \u001b[38;5;241m==\u001b[39m \u001b[38;5;241m0\u001b[39m \u001b[38;5;28;01melse\u001b[39;00m x\n\u001b[0;32m    517\u001b[0m   \u001b[38;5;28;01mreturn\u001b[39;00m t\n",
      "File \u001b[1;32m~\\anaconda3\\envs\\geron_ml\\lib\\site-packages\\tensorflow\\python\\framework\\ops.py:1094\u001b[0m, in \u001b[0;36m_EagerTensorBase.numpy\u001b[1;34m(self)\u001b[0m\n\u001b[0;32m   1071\u001b[0m \u001b[38;5;124;03m\"\"\"Copy of the contents of this Tensor into a NumPy array or scalar.\u001b[39;00m\n\u001b[0;32m   1072\u001b[0m \n\u001b[0;32m   1073\u001b[0m \u001b[38;5;124;03mUnlike NumPy arrays, Tensors are immutable, so this method has to copy\u001b[39;00m\n\u001b[1;32m   (...)\u001b[0m\n\u001b[0;32m   1091\u001b[0m \u001b[38;5;124;03m    NumPy dtype.\u001b[39;00m\n\u001b[0;32m   1092\u001b[0m \u001b[38;5;124;03m\"\"\"\u001b[39;00m\n\u001b[0;32m   1093\u001b[0m \u001b[38;5;66;03m# TODO(slebedev): Consider avoiding a copy for non-CPU or remote tensors.\u001b[39;00m\n\u001b[1;32m-> 1094\u001b[0m maybe_arr \u001b[38;5;241m=\u001b[39m \u001b[38;5;28;43mself\u001b[39;49m\u001b[38;5;241;43m.\u001b[39;49m\u001b[43m_numpy\u001b[49m\u001b[43m(\u001b[49m\u001b[43m)\u001b[49m  \u001b[38;5;66;03m# pylint: disable=protected-access\u001b[39;00m\n\u001b[0;32m   1095\u001b[0m \u001b[38;5;28;01mreturn\u001b[39;00m maybe_arr\u001b[38;5;241m.\u001b[39mcopy() \u001b[38;5;28;01mif\u001b[39;00m \u001b[38;5;28misinstance\u001b[39m(maybe_arr, np\u001b[38;5;241m.\u001b[39mndarray) \u001b[38;5;28;01melse\u001b[39;00m maybe_arr\n",
      "File \u001b[1;32m~\\anaconda3\\envs\\geron_ml\\lib\\site-packages\\tensorflow\\python\\framework\\ops.py:1060\u001b[0m, in \u001b[0;36m_EagerTensorBase._numpy\u001b[1;34m(self)\u001b[0m\n\u001b[0;32m   1058\u001b[0m \u001b[38;5;28;01mdef\u001b[39;00m \u001b[38;5;21m_numpy\u001b[39m(\u001b[38;5;28mself\u001b[39m):\n\u001b[0;32m   1059\u001b[0m   \u001b[38;5;28;01mtry\u001b[39;00m:\n\u001b[1;32m-> 1060\u001b[0m     \u001b[38;5;28;01mreturn\u001b[39;00m \u001b[38;5;28;43mself\u001b[39;49m\u001b[38;5;241;43m.\u001b[39;49m\u001b[43m_numpy_internal\u001b[49m\u001b[43m(\u001b[49m\u001b[43m)\u001b[49m\n\u001b[0;32m   1061\u001b[0m   \u001b[38;5;28;01mexcept\u001b[39;00m core\u001b[38;5;241m.\u001b[39m_NotOkStatusException \u001b[38;5;28;01mas\u001b[39;00m e:  \u001b[38;5;66;03m# pylint: disable=protected-access\u001b[39;00m\n\u001b[0;32m   1062\u001b[0m     six\u001b[38;5;241m.\u001b[39mraise_from(core\u001b[38;5;241m.\u001b[39m_status_to_exception(e\u001b[38;5;241m.\u001b[39mcode, e\u001b[38;5;241m.\u001b[39mmessage), \u001b[38;5;28;01mNone\u001b[39;00m)\n",
      "\u001b[1;31mKeyboardInterrupt\u001b[0m: "
     ]
    }
   ],
   "source": [
    "checkp = ModelCheckpoint(\"model.h5\", save_best_only=True)\n",
    "early_stop_cb = EarlyStopping(patience=10, restore_best_weights=True)\n",
    "\n",
    "hist = model.fit(X_train, y_train, epochs=2000, validation_data=(X_valid, y_valid), callbacks=[checkp])\n",
    "model = load_model(\"model.h5\")"
   ]
  },
  {
   "cell_type": "code",
   "execution_count": null,
   "id": "689002c5",
   "metadata": {},
   "outputs": [],
   "source": [
    "mse_test = model.evaluate(X_test, y_test)"
   ]
  },
  {
   "cell_type": "code",
   "execution_count": null,
   "id": "a25a3640",
   "metadata": {},
   "outputs": [],
   "source": [
    "test_frame = learning_frame.where(learning_frame[\"regio1\"] == \"Schleswig_Holstein\")\n",
    "test_frame = test_frame.dropna()\n",
    "test_frame[\"condition\"].unique()"
   ]
  },
  {
   "cell_type": "code",
   "execution_count": null,
   "id": "1bfdd2b2",
   "metadata": {},
   "outputs": [],
   "source": [
    "l_frame = learning_frame.where(learning_frame[\"regio2\"] == \"Lübeck\")\n",
    "l_frame = l_frame.dropna()\n",
    "l_frame"
   ]
  },
  {
   "cell_type": "code",
   "execution_count": null,
   "id": "5b4e3ced",
   "metadata": {},
   "outputs": [],
   "source": [
    "test_data = {\"noRooms\": 7, \"balcony\": True, \"regio1\": \"Schlewsig_Holstein\", \"regio2\": \"Lübeck\", \"cellar\": False, \"condition\": \"need_for_renovation\", \"regio3\": \"Innenstadt\", \"garden\": False, \"livingSpace\": 112.0, \"lift\": False}\n",
    "test_frame = pd.DataFrame(data=test_data, index=[1])"
   ]
  },
  {
   "cell_type": "code",
   "execution_count": null,
   "id": "255b5335",
   "metadata": {},
   "outputs": [],
   "source": [
    "test_prepared = full_pipe.fit_transform(test_frame)"
   ]
  }
 ],
 "metadata": {
  "kernelspec": {
   "display_name": "Python 3 (ipykernel)",
   "language": "python",
   "name": "python3"
  },
  "language_info": {
   "codemirror_mode": {
    "name": "ipython",
    "version": 3
   },
   "file_extension": ".py",
   "mimetype": "text/x-python",
   "name": "python",
   "nbconvert_exporter": "python",
   "pygments_lexer": "ipython3",
   "version": "3.9.12"
  }
 },
 "nbformat": 4,
 "nbformat_minor": 5
}
