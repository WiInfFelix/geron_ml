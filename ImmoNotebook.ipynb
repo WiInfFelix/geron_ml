{
 "cells": [
  {
   "cell_type": "code",
   "execution_count": 1,
   "id": "24c8c6b0",
   "metadata": {},
   "outputs": [
    {
     "name": "stderr",
     "output_type": "stream",
     "text": [
      "2022-06-22 07:15:11.991168: W tensorflow/stream_executor/platform/default/dso_loader.cc:64] Could not load dynamic library 'libcudart.so.11.0'; dlerror: libcudart.so.11.0: cannot open shared object file: No such file or directory\n",
      "2022-06-22 07:15:11.991211: I tensorflow/stream_executor/cuda/cudart_stub.cc:29] Ignore above cudart dlerror if you do not have a GPU set up on your machine.\n"
     ]
    }
   ],
   "source": [
    "import numpy as np\n",
    "import pandas as pd\n",
    "\n",
    "from sklearn.datasets import fetch_california_housing\n",
    "from sklearn.model_selection import train_test_split\n",
    "from sklearn.preprocessing import StandardScaler, OneHotEncoder, OrdinalEncoder\n",
    "from sklearn.pipeline import Pipeline\n",
    "from sklearn.compose import ColumnTransformer\n",
    "\n",
    "from keras.models import Sequential, load_model\n",
    "from keras import layers\n",
    "from keras import Model\n",
    "from keras.callbacks import ModelCheckpoint, EarlyStopping"
   ]
  },
  {
   "cell_type": "code",
   "execution_count": 2,
   "id": "b5aeabe3",
   "metadata": {},
   "outputs": [
    {
     "name": "stdout",
     "output_type": "stream",
     "text": [
      "[name: \"/device:CPU:0\"\n",
      "device_type: \"CPU\"\n",
      "memory_limit: 268435456\n",
      "locality {\n",
      "}\n",
      "incarnation: 4355666906832260455\n",
      ", name: \"/device:GPU:0\"\n",
      "device_type: \"GPU\"\n",
      "memory_limit: 4143382528\n",
      "locality {\n",
      "  bus_id: 1\n",
      "  links {\n",
      "  }\n",
      "}\n",
      "incarnation: 3651569386379864042\n",
      "physical_device_desc: \"device: 0, name: NVIDIA GeForce RTX 2060, pci bus id: 0000:2d:00.0, compute capability: 7.5\"\n",
      "]\n"
     ]
    }
   ],
   "source": [
    "from tensorflow.python.client import device_lib\n",
    "print(device_lib.list_local_devices())"
   ]
  },
  {
   "cell_type": "code",
   "execution_count": 2,
   "id": "cf09fe0f",
   "metadata": {},
   "outputs": [
    {
     "name": "stdout",
     "output_type": "stream",
     "text": [
      "<class 'pandas.core.frame.DataFrame'>\n",
      "RangeIndex: 200361 entries, 0 to 200360\n",
      "Data columns (total 11 columns):\n",
      " #   Column       Non-Null Count   Dtype  \n",
      "---  ------       --------------   -----  \n",
      " 0   noRooms      200361 non-null  float64\n",
      " 1   balcony      200361 non-null  bool   \n",
      " 2   regio1       200361 non-null  object \n",
      " 3   regio2       200361 non-null  object \n",
      " 4   cellar       200361 non-null  bool   \n",
      " 5   condition    200361 non-null  object \n",
      " 6   regio3       200361 non-null  object \n",
      " 7   garden       200361 non-null  bool   \n",
      " 8   livingSpace  200361 non-null  float64\n",
      " 9   lift         200361 non-null  bool   \n",
      " 10  baseRent     200361 non-null  float64\n",
      "dtypes: bool(4), float64(3), object(4)\n",
      "memory usage: 11.5+ MB\n"
     ]
    }
   ],
   "source": [
    "rental_offer = pd.read_csv(\"./immo_features.csv\")\n",
    "rental_offer = rental_offer[[\"noRooms\",\"balcony\", \"regio1\", \"regio2\", \"cellar\", \"condition\", \"regio3\", \"garden\", \"livingSpace\", \"lift\", \"baseRent\"]]\n",
    "rental_offer = rental_offer.dropna()\n",
    "\n",
    "rental_offer.to_csv(\"./immo_features.csv\")\n",
    "\n",
    "rental_offer.info()"
   ]
  },
  {
   "cell_type": "code",
   "execution_count": 3,
   "id": "8464a618",
   "metadata": {},
   "outputs": [
    {
     "name": "stdout",
     "output_type": "stream",
     "text": [
      "<class 'pandas.core.frame.DataFrame'>\n",
      "RangeIndex: 200361 entries, 0 to 200360\n",
      "Data columns (total 8 columns):\n",
      " #   Column       Non-Null Count   Dtype  \n",
      "---  ------       --------------   -----  \n",
      " 0   noRooms      200361 non-null  float64\n",
      " 1   balcony      200361 non-null  bool   \n",
      " 2   regio1       200361 non-null  object \n",
      " 3   cellar       200361 non-null  bool   \n",
      " 4   condition    200361 non-null  object \n",
      " 5   garden       200361 non-null  bool   \n",
      " 6   livingSpace  200361 non-null  float64\n",
      " 7   lift         200361 non-null  bool   \n",
      "dtypes: bool(4), float64(2), object(2)\n",
      "memory usage: 6.9+ MB\n"
     ]
    }
   ],
   "source": [
    "learning_frame = rental_offer[[\"noRooms\",\"balcony\", \"regio1\", \"cellar\", \"condition\", \"garden\", \"livingSpace\", \"lift\"]]\n",
    "learning_frame.info()"
   ]
  },
  {
   "cell_type": "code",
   "execution_count": 4,
   "id": "7b4077ef",
   "metadata": {},
   "outputs": [
    {
     "name": "stdout",
     "output_type": "stream",
     "text": [
      "<class 'pandas.core.series.Series'>\n",
      "RangeIndex: 200361 entries, 0 to 200360\n",
      "Series name: baseRent\n",
      "Non-Null Count   Dtype  \n",
      "--------------   -----  \n",
      "200361 non-null  float64\n",
      "dtypes: float64(1)\n",
      "memory usage: 1.5 MB\n"
     ]
    }
   ],
   "source": [
    "target = rental_offer[\"baseRent\"]\n",
    "target.info()"
   ]
  },
  {
   "cell_type": "code",
   "execution_count": 6,
   "id": "4708e63c",
   "metadata": {},
   "outputs": [
    {
     "data": {
      "text/html": [
       "<div>\n",
       "<style scoped>\n",
       "    .dataframe tbody tr th:only-of-type {\n",
       "        vertical-align: middle;\n",
       "    }\n",
       "\n",
       "    .dataframe tbody tr th {\n",
       "        vertical-align: top;\n",
       "    }\n",
       "\n",
       "    .dataframe thead th {\n",
       "        text-align: right;\n",
       "    }\n",
       "</style>\n",
       "<table border=\"1\" class=\"dataframe\">\n",
       "  <thead>\n",
       "    <tr style=\"text-align: right;\">\n",
       "      <th></th>\n",
       "      <th>noRooms</th>\n",
       "      <th>balcony</th>\n",
       "      <th>cellar</th>\n",
       "      <th>garden</th>\n",
       "      <th>livingSpace</th>\n",
       "      <th>lift</th>\n",
       "    </tr>\n",
       "  </thead>\n",
       "  <tbody>\n",
       "    <tr>\n",
       "      <th>0</th>\n",
       "      <td>4.0</td>\n",
       "      <td>False</td>\n",
       "      <td>True</td>\n",
       "      <td>True</td>\n",
       "      <td>86.00</td>\n",
       "      <td>False</td>\n",
       "    </tr>\n",
       "    <tr>\n",
       "      <th>1</th>\n",
       "      <td>3.0</td>\n",
       "      <td>True</td>\n",
       "      <td>False</td>\n",
       "      <td>False</td>\n",
       "      <td>89.00</td>\n",
       "      <td>False</td>\n",
       "    </tr>\n",
       "    <tr>\n",
       "      <th>2</th>\n",
       "      <td>3.0</td>\n",
       "      <td>True</td>\n",
       "      <td>True</td>\n",
       "      <td>False</td>\n",
       "      <td>83.80</td>\n",
       "      <td>True</td>\n",
       "    </tr>\n",
       "    <tr>\n",
       "      <th>3</th>\n",
       "      <td>3.0</td>\n",
       "      <td>True</td>\n",
       "      <td>False</td>\n",
       "      <td>False</td>\n",
       "      <td>84.97</td>\n",
       "      <td>False</td>\n",
       "    </tr>\n",
       "    <tr>\n",
       "      <th>4</th>\n",
       "      <td>2.0</td>\n",
       "      <td>True</td>\n",
       "      <td>False</td>\n",
       "      <td>False</td>\n",
       "      <td>53.43</td>\n",
       "      <td>False</td>\n",
       "    </tr>\n",
       "  </tbody>\n",
       "</table>\n",
       "</div>"
      ],
      "text/plain": [
       "   noRooms  balcony  cellar  garden  livingSpace   lift\n",
       "0      4.0    False    True    True        86.00  False\n",
       "1      3.0     True   False   False        89.00  False\n",
       "2      3.0     True    True   False        83.80   True\n",
       "3      3.0     True   False   False        84.97  False\n",
       "4      2.0     True   False   False        53.43  False"
      ]
     },
     "execution_count": 6,
     "metadata": {},
     "output_type": "execute_result"
    }
   ],
   "source": [
    "num_attribs = learning_frame.drop([\"regio1\", \"condition\"], axis=1)\n",
    "num_attribs.head()"
   ]
  },
  {
   "cell_type": "code",
   "execution_count": 9,
   "id": "6e9c030f",
   "metadata": {},
   "outputs": [],
   "source": [
    "num_attribs = list(num_attribs)\n",
    "cat_attribs = [\"regio1\"]\n",
    "ord_attribs = [\"condition\"]\n",
    "\n",
    "num_pipeline = Pipeline([(\"std_scaler\", StandardScaler())])\n",
    "\n",
    "\n",
    "full_pipe = ColumnTransformer([\n",
    "    (\"num\", num_pipeline, num_attribs),\n",
    "    (\"cat\", OneHotEncoder(), cat_attribs),\n",
    "    (\"ord\", OrdinalEncoder(), ord_attribs)\n",
    "])"
   ]
  },
  {
   "cell_type": "code",
   "execution_count": 10,
   "id": "dddc2e9b",
   "metadata": {},
   "outputs": [
    {
     "data": {
      "text/plain": [
       "array([[ 0.4542822 , -1.3336794 ,  0.6953863 , ...,  0.        ,\n",
       "         0.        ,  9.        ],\n",
       "       [ 0.11347608,  0.7498054 , -1.4380496 , ...,  0.        ,\n",
       "         0.        ,  7.        ],\n",
       "       [ 0.11347608,  0.7498054 ,  0.6953863 , ...,  0.        ,\n",
       "         0.        ,  0.        ],\n",
       "       ...,\n",
       "       [ 0.4542822 ,  0.7498054 ,  0.6953863 , ...,  0.        ,\n",
       "         0.        ,  9.        ],\n",
       "       [-0.22733003,  0.7498054 ,  0.6953863 , ...,  0.        ,\n",
       "         0.        ,  0.        ],\n",
       "       [ 0.11347608,  0.7498054 ,  0.6953863 , ...,  0.        ,\n",
       "         0.        ,  4.        ]], dtype=float32)"
      ]
     },
     "execution_count": 10,
     "metadata": {},
     "output_type": "execute_result"
    }
   ],
   "source": [
    "learning_prepared = full_pipe.fit_transform(learning_frame)\n",
    "learning_prepared = learning_prepared.astype(np.float32)\n",
    "learning_prepared"
   ]
  },
  {
   "cell_type": "code",
   "execution_count": 11,
   "id": "f8d3b08c",
   "metadata": {},
   "outputs": [
    {
     "ename": "AttributeError",
     "evalue": "'numpy.ndarray' object has no attribute 'toarray'",
     "output_type": "error",
     "traceback": [
      "\u001b[0;31m---------------------------------------------------------------------------\u001b[0m",
      "\u001b[0;31mAttributeError\u001b[0m                            Traceback (most recent call last)",
      "\u001b[1;32m/workspaces/geron_ml/ImmoNotebook.ipynb Cell 11'\u001b[0m in \u001b[0;36m<cell line: 1>\u001b[0;34m()\u001b[0m\n\u001b[0;32m----> <a href='vscode-notebook-cell://codespaces%2Bwiinffelix-geron-ml-54xvj6gr345/workspaces/geron_ml/ImmoNotebook.ipynb#ch0000010vscode-remote?line=0'>1</a>\u001b[0m learning_prepared \u001b[39m=\u001b[39m learning_prepared\u001b[39m.\u001b[39;49mtoarray()\n",
      "\u001b[0;31mAttributeError\u001b[0m: 'numpy.ndarray' object has no attribute 'toarray'"
     ]
    }
   ],
   "source": [
    "learning_prepared "
   ]
  },
  {
   "cell_type": "code",
   "execution_count": 12,
   "id": "2cd6693c",
   "metadata": {},
   "outputs": [],
   "source": [
    "X_train_full, X_test, y_train_full, y_test = train_test_split(learning_prepared, target)"
   ]
  },
  {
   "cell_type": "code",
   "execution_count": 13,
   "id": "fc4caa25",
   "metadata": {},
   "outputs": [],
   "source": [
    "X_train, X_valid, y_train, y_valid = train_test_split(X_train_full, y_train_full)"
   ]
  },
  {
   "cell_type": "code",
   "execution_count": 12,
   "id": "877f17b3",
   "metadata": {},
   "outputs": [],
   "source": [
    "class WideAndDeepModel(Model):\n",
    "    def __init__(self, units=30, activation=\"relu\", **kwargs):\n",
    "        super().__init__(**kwargs)\n",
    "        self.hidden1 = layers.Dense(units, activation=activation)\n",
    "        self.hidden2 = layers.Dense(units, activation=activation)\n",
    "        self.conc = layers.Concatenate()\n",
    "        self.output = layers.Dense(1)\n",
    "        \n",
    "        \n",
    "    def call(self, inputs):\n",
    "        input_ = inputs\n",
    "        hidden"
   ]
  },
  {
   "cell_type": "code",
   "execution_count": 14,
   "id": "b4e8b10d",
   "metadata": {},
   "outputs": [
    {
     "name": "stderr",
     "output_type": "stream",
     "text": [
      "2022-06-22 07:17:16.667457: W tensorflow/stream_executor/platform/default/dso_loader.cc:64] Could not load dynamic library 'libcuda.so.1'; dlerror: libcuda.so.1: cannot open shared object file: No such file or directory\n",
      "2022-06-22 07:17:16.667497: W tensorflow/stream_executor/cuda/cuda_driver.cc:269] failed call to cuInit: UNKNOWN ERROR (303)\n",
      "2022-06-22 07:17:16.667521: I tensorflow/stream_executor/cuda/cuda_diagnostics.cc:156] kernel driver does not appear to be running on this host (codespaces-b618c3): /proc/driver/nvidia/version does not exist\n",
      "2022-06-22 07:17:16.667964: I tensorflow/core/platform/cpu_feature_guard.cc:193] This TensorFlow binary is optimized with oneAPI Deep Neural Network Library (oneDNN) to use the following CPU instructions in performance-critical operations:  AVX2 AVX512F FMA\n",
      "To enable them in other operations, rebuild TensorFlow with the appropriate compiler flags.\n",
      "2022-06-22 07:17:17.030362: W tensorflow/core/framework/cpu_allocator_impl.cc:82] Allocation of 298667524 exceeds 10% of free system memory.\n",
      "2022-06-22 07:17:17.288172: W tensorflow/core/framework/cpu_allocator_impl.cc:82] Allocation of 298667524 exceeds 10% of free system memory.\n",
      "2022-06-22 07:17:17.390198: W tensorflow/core/framework/cpu_allocator_impl.cc:82] Allocation of 298667524 exceeds 10% of free system memory.\n"
     ]
    }
   ],
   "source": [
    "input_ = layers.Input(shape=X_train.shape[1:])\n",
    "hidden1 = layers.Dense(8641, activation=\"relu\")(input_)\n",
    "hidden2 = layers.Dense(8641, activation=\"relu\")(hidden1)\n",
    "conc = layers.Concatenate()([input_, hidden2])\n",
    "output = layers.Dense(1)(conc)\n",
    "\n",
    "model = Model(inputs=[input_], outputs=[output])"
   ]
  },
  {
   "cell_type": "code",
   "execution_count": 15,
   "id": "f812c5b8",
   "metadata": {},
   "outputs": [],
   "source": [
    "model.compile(loss=\"mean_squared_error\", optimizer=\"adam\")"
   ]
  },
  {
   "cell_type": "code",
   "execution_count": null,
   "id": "689002c5",
   "metadata": {},
   "outputs": [],
   "source": [
    "mse_test = model.evaluate(X_test, y_test)"
   ]
  },
  {
   "cell_type": "code",
   "execution_count": null,
   "id": "a25a3640",
   "metadata": {},
   "outputs": [],
   "source": [
    "test_frame = learning_frame.where(learning_frame[\"regio1\"] == \"Schleswig_Holstein\")\n",
    "test_frame = test_frame.dropna()\n",
    "test_frame[\"condition\"].unique()"
   ]
  },
  {
   "cell_type": "code",
   "execution_count": null,
   "id": "1bfdd2b2",
   "metadata": {},
   "outputs": [],
   "source": [
    "l_frame = learning_frame.where(learning_frame[\"regio2\"] == \"Lübeck\")\n",
    "l_frame = l_frame.dropna()\n",
    "l_frame"
   ]
  },
  {
   "cell_type": "code",
   "execution_count": null,
   "id": "5b4e3ced",
   "metadata": {},
   "outputs": [],
   "source": [
    "test_data = {\"noRooms\": 7, \"balcony\": True, \"regio1\": \"Schlewsig_Holstein\", \"regio2\": \"Lübeck\", \"cellar\": False, \"condition\": \"need_for_renovation\", \"regio3\": \"Innenstadt\", \"garden\": False, \"livingSpace\": 112.0, \"lift\": False}\n",
    "test_frame = pd.DataFrame(data=test_data, index=[1])"
   ]
  },
  {
   "cell_type": "code",
   "execution_count": null,
   "id": "255b5335",
   "metadata": {},
   "outputs": [],
   "source": [
    "test_prepared = full_pipe.fit_transform(test_frame)"
   ]
  }
 ],
 "metadata": {
  "kernelspec": {
   "display_name": "Python 3.10.4 64-bit",
   "language": "python",
   "name": "python3"
  },
  "language_info": {
   "codemirror_mode": {
    "name": "ipython",
    "version": 3
   },
   "file_extension": ".py",
   "mimetype": "text/x-python",
   "name": "python",
   "nbconvert_exporter": "python",
   "pygments_lexer": "ipython3",
   "version": "3.10.4"
  },
  "vscode": {
   "interpreter": {
    "hash": "4f946df053fbf2b937619d3c5458e7af74262f9a954d8797ba0b27400bcafe06"
   }
  }
 },
 "nbformat": 4,
 "nbformat_minor": 5
}
